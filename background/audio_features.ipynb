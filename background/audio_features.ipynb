{
 "cells": [
  {
   "cell_type": "markdown",
   "metadata": {},
   "source": [
    "# Types of audio features"
   ]
  },
  {
   "cell_type": "markdown",
   "metadata": {},
   "source": [
    "# Extracting audio features"
   ]
  },
  {
   "cell_type": "code",
   "execution_count": null,
   "metadata": {},
   "outputs": [],
   "source": [
    "import librosa\n",
    "import librosa.display\n",
    "import IPython.display as ipd\n",
    "import matplotlib.pyplot as plt\n",
    "import numpy as np\n",
    "import os"
   ]
  },
  {
   "cell_type": "code",
   "execution_count": null,
   "metadata": {},
   "outputs": [],
   "source": [
    "import librosa\n",
    "import librosa.display\n",
    "import matplotlib.pyplot as plt\n",
    "import numpy as np\n",
    "\n",
    "y, sr = librosa.load('../noisy/airport.wav')\n",
    "\n",
    "# Extract features\n",
    "chroma_stft = librosa.feature.chroma_stft(y=y, sr=sr)\n",
    "chroma_cq = librosa.feature.chroma_cqt(y=y, sr=sr)\n",
    "chroma_cens = librosa.feature.chroma_cens(y=y, sr=sr)\n",
    "melspectrogram = librosa.feature.melspectrogram(y=y, sr=sr) #\n",
    "mfcc = librosa.feature.mfcc(y=y, sr=sr) #\n",
    "rmse = librosa.feature.rms(y=y) #\n",
    "spectral_centroid = librosa.feature.spectral_centroid(y=y,  sr=sr) # \n",
    "spectral_bandwidth = librosa.feature.spectral_bandwidth(y=y, sr=sr) # \n",
    "spectral_contrast = librosa.feature.spectral_contrast(y=y, sr=sr) # \n",
    "spectral_flatness = librosa.feature.spectral_flatness(y=y) # \n",
    "spectral_rolloff = librosa.feature.spectral_rolloff(y=y, sr=sr) #\n",
    "poly_features = librosa.feature.poly_features(y=y, sr=sr)\n",
    "tonnetz = librosa.feature.tonnetz(y=y, sr=sr)\n",
    "\n",
    "# Plot some of the features\n",
    "plt.figure(figsize=(12, 8))\n",
    "\n",
    "plt.subplot(3, 3, 1)\n",
    "librosa.display.specshow(chroma_stft, y_axis='chroma', x_axis='time')\n",
    "plt.colorbar()\n",
    "plt.title('Chromagram from STFT')\n",
    "\n",
    "plt.subplot(3, 3, 2)\n",
    "librosa.display.specshow(melspectrogram, y_axis='mel', x_axis='time')\n",
    "plt.colorbar()\n",
    "plt.title('Mel Spectrogram')\n",
    "\n",
    "plt.subplot(3, 3, 3)\n",
    "librosa.display.specshow(mfcc, x_axis='time')\n",
    "plt.colorbar()\n",
    "plt.title('MFCC')\n",
    "\n",
    "plt.tight_layout()\n",
    "plt.show()\n",
    "\n"
   ]
  },
  {
   "cell_type": "code",
   "execution_count": null,
   "metadata": {},
   "outputs": [],
   "source": [
    "ipd.Audio('../noisy/airport.wav')\n"
   ]
  }
 ],
 "metadata": {
  "kernelspec": {
   "display_name": "Python 3",
   "language": "python",
   "name": "python3"
  },
  "language_info": {
   "codemirror_mode": {
    "name": "ipython",
    "version": 3
   },
   "file_extension": ".py",
   "mimetype": "text/x-python",
   "name": "python",
   "nbconvert_exporter": "python",
   "pygments_lexer": "ipython3",
   "version": "3.11.2"
  }
 },
 "nbformat": 4,
 "nbformat_minor": 2
}
